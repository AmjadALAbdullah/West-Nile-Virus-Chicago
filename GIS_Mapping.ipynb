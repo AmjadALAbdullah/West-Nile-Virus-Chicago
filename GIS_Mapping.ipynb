{
 "cells": [
  {
   "cell_type": "code",
   "execution_count": 10,
   "metadata": {},
   "outputs": [],
   "source": [
    "import pandas as pd\n",
    "import arcgis\n",
    "from arcgis.gis import GIS\n",
    "from IPython.display import display\n",
    "import seaborn as sns\n",
    "import matplotlib.pyplot as plt\n",
    "import seaborn as sns\n",
    "import scipy.stats as stats\n",
    "import pandas as pd\n",
    "%matplotlib inline\n",
    "import numpy as np\n",
    "from scipy.special import erf\n",
    "import arcgis\n",
    "arcgis.env.out_spatial_reference = 4326\n",
    "from IPython.display import display"
   ]
  },
  {
   "cell_type": "code",
   "execution_count": 11,
   "metadata": {},
   "outputs": [],
   "source": [
    "df_count = pd.read_csv('./Illinois_Counties_1.csv')"
   ]
  },
  {
   "cell_type": "code",
   "execution_count": 12,
   "metadata": {},
   "outputs": [
    {
     "data": {
      "text/html": [
       "<div>\n",
       "<style>\n",
       "    .dataframe thead tr:only-child th {\n",
       "        text-align: right;\n",
       "    }\n",
       "\n",
       "    .dataframe thead th {\n",
       "        text-align: left;\n",
       "    }\n",
       "\n",
       "    .dataframe tbody tr th {\n",
       "        vertical-align: top;\n",
       "    }\n",
       "</style>\n",
       "<table border=\"1\" class=\"dataframe\">\n",
       "  <thead>\n",
       "    <tr style=\"text-align: right;\">\n",
       "      <th></th>\n",
       "      <th>Year</th>\n",
       "      <th>Cases</th>\n",
       "      <th>Deaths</th>\n",
       "      <th>Youngest</th>\n",
       "      <th>Oldest</th>\n",
       "      <th>Mean Age</th>\n",
       "      <th>Num Female</th>\n",
       "      <th>Num Male</th>\n",
       "      <th>Counties</th>\n",
       "      <th>Cook County Cases</th>\n",
       "      <th>Chicago Deaths</th>\n",
       "    </tr>\n",
       "  </thead>\n",
       "  <tbody>\n",
       "    <tr>\n",
       "      <th>0</th>\n",
       "      <td>2007</td>\n",
       "      <td>101</td>\n",
       "      <td>~NaN~</td>\n",
       "      <td>0.1</td>\n",
       "      <td>87</td>\n",
       "      <td>50</td>\n",
       "      <td>38</td>\n",
       "      <td>63</td>\n",
       "      <td>48</td>\n",
       "      <td>33</td>\n",
       "      <td>~NaN~</td>\n",
       "    </tr>\n",
       "    <tr>\n",
       "      <th>1</th>\n",
       "      <td>2008</td>\n",
       "      <td>20</td>\n",
       "      <td>~NaN~</td>\n",
       "      <td>16</td>\n",
       "      <td>86</td>\n",
       "      <td>54</td>\n",
       "      <td>12</td>\n",
       "      <td>8</td>\n",
       "      <td>28</td>\n",
       "      <td>9</td>\n",
       "      <td>~NaN~</td>\n",
       "    </tr>\n",
       "    <tr>\n",
       "      <th>2</th>\n",
       "      <td>2009</td>\n",
       "      <td>5</td>\n",
       "      <td>~NaN~</td>\n",
       "      <td>~NaN~</td>\n",
       "      <td>~NaN~</td>\n",
       "      <td>~NaN~</td>\n",
       "      <td>2</td>\n",
       "      <td>3</td>\n",
       "      <td>36</td>\n",
       "      <td>1</td>\n",
       "      <td>~NaN~</td>\n",
       "    </tr>\n",
       "    <tr>\n",
       "      <th>3</th>\n",
       "      <td>2010</td>\n",
       "      <td>61</td>\n",
       "      <td>4</td>\n",
       "      <td>18</td>\n",
       "      <td>92</td>\n",
       "      <td>57</td>\n",
       "      <td>27</td>\n",
       "      <td>34</td>\n",
       "      <td>30</td>\n",
       "      <td>30</td>\n",
       "      <td>1</td>\n",
       "    </tr>\n",
       "    <tr>\n",
       "      <th>4</th>\n",
       "      <td>2011</td>\n",
       "      <td>34</td>\n",
       "      <td>3</td>\n",
       "      <td>9</td>\n",
       "      <td>88</td>\n",
       "      <td>62</td>\n",
       "      <td>15</td>\n",
       "      <td>19</td>\n",
       "      <td>19</td>\n",
       "      <td>22</td>\n",
       "      <td>1</td>\n",
       "    </tr>\n",
       "    <tr>\n",
       "      <th>5</th>\n",
       "      <td>2012</td>\n",
       "      <td>290</td>\n",
       "      <td>12</td>\n",
       "      <td>9</td>\n",
       "      <td>89</td>\n",
       "      <td>57</td>\n",
       "      <td>143</td>\n",
       "      <td>147</td>\n",
       "      <td>55</td>\n",
       "      <td>174</td>\n",
       "      <td>5</td>\n",
       "    </tr>\n",
       "    <tr>\n",
       "      <th>6</th>\n",
       "      <td>2013</td>\n",
       "      <td>117</td>\n",
       "      <td>11</td>\n",
       "      <td>14</td>\n",
       "      <td>92</td>\n",
       "      <td>59</td>\n",
       "      <td>61</td>\n",
       "      <td>56</td>\n",
       "      <td>76</td>\n",
       "      <td>60</td>\n",
       "      <td>7</td>\n",
       "    </tr>\n",
       "  </tbody>\n",
       "</table>\n",
       "</div>"
      ],
      "text/plain": [
       "   Year  Cases Deaths Youngest Oldest Mean Age  Num Female  Num Male  \\\n",
       "0  2007    101  ~NaN~      0.1     87       50          38        63   \n",
       "1  2008     20  ~NaN~       16     86       54          12         8   \n",
       "2  2009      5  ~NaN~    ~NaN~  ~NaN~    ~NaN~           2         3   \n",
       "3  2010     61      4       18     92       57          27        34   \n",
       "4  2011     34      3        9     88       62          15        19   \n",
       "5  2012    290     12        9     89       57         143       147   \n",
       "6  2013    117     11       14     92       59          61        56   \n",
       "\n",
       "   Counties  Cook County Cases Chicago Deaths  \n",
       "0        48                 33          ~NaN~  \n",
       "1        28                  9          ~NaN~  \n",
       "2        36                  1          ~NaN~  \n",
       "3        30                 30              1  \n",
       "4        19                 22              1  \n",
       "5        55                174              5  \n",
       "6        76                 60              7  "
      ]
     },
     "execution_count": 12,
     "metadata": {},
     "output_type": "execute_result"
    }
   ],
   "source": [
    "df_count"
   ]
  },
  {
   "cell_type": "code",
   "execution_count": 13,
   "metadata": {},
   "outputs": [
    {
     "data": {
      "text/plain": [
       "Year                  int64\n",
       "Cases                 int64\n",
       "Deaths               object\n",
       "Youngest             object\n",
       "Oldest               object\n",
       "Mean Age             object\n",
       "Num Female            int64\n",
       "Num Male              int64\n",
       "Counties              int64\n",
       "Cook County Cases     int64\n",
       "Chicago Deaths       object\n",
       "dtype: object"
      ]
     },
     "execution_count": 13,
     "metadata": {},
     "output_type": "execute_result"
    }
   ],
   "source": [
    "df_count.dtypes"
   ]
  },
  {
   "cell_type": "code",
   "execution_count": 431,
   "metadata": {},
   "outputs": [
    {
     "data": {
      "text/plain": [
       "[Text(0,0.5,'# of Cases'),\n",
       " Text(0.5,0,'Year'),\n",
       " Text(0.5,1,'Cases of WNV in Cook County')]"
      ]
     },
     "execution_count": 431,
     "metadata": {},
     "output_type": "execute_result"
    },
    {
     "data": {
      "image/png": "[encoded data removed]",
      "text/plain": [
       "<matplotlib.figure.Figure at 0x177a16358>"
      ]
     },
     "metadata": {},
     "output_type": "display_data"
    }
   ],
   "source": [
    "plt.figure(figsize=(8,5))\n",
    "plt.style.use('fivethirtyeight')\n",
    "ax = sns.barplot(x = 'Year', y = 'Cook County Cases', data = df_count)\n",
    "ax.set(ylabel='# of Cases', \n",
    "       xlabel='Year', \n",
    "       title='Cases of WNV in Cook County')"
   ]
  },
  {
   "cell_type": "code",
   "execution_count": 15,
   "metadata": {
    "collapsed": true
   },
   "outputs": [],
   "source": [
    "gis = GIS('https://www.arcgis.com', 'atcarl', 'pass84GIS')"
   ]
  },
  {
   "cell_type": "code",
   "execution_count": 16,
   "metadata": {
    "collapsed": true
   },
   "outputs": [],
   "source": [
    "toolboxes = gis.content.search('travel', 'Geoprocessing Toolbox', \n",
    "                               outside_org=True, max_items=3)"
   ]
  },
  {
   "cell_type": "code",
   "execution_count": 17,
   "metadata": {
    "collapsed": true
   },
   "outputs": [],
   "source": [
    "map1 = gis.map('Chicago', zoomlevel=10)"
   ]
  },
  {
   "cell_type": "code",
   "execution_count": 18,
   "metadata": {},
   "outputs": [
    {
     "data": {
      "text/plain": [
       "['dark-gray',\n",
       " 'dark-gray-vector',\n",
       " 'gray',\n",
       " 'gray-vector',\n",
       " 'hybrid',\n",
       " 'national-geographic',\n",
       " 'oceans',\n",
       " 'osm',\n",
       " 'satellite',\n",
       " 'streets',\n",
       " 'streets-navigation-vector',\n",
       " 'streets-night-vector',\n",
       " 'streets-relief-vector',\n",
       " 'streets-vector',\n",
       " 'terrain',\n",
       " 'topo',\n",
       " 'topo-vector']"
      ]
     },
     "execution_count": 18,
     "metadata": {},
     "output_type": "execute_result"
    }
   ],
   "source": [
    "map1.basemaps"
   ]
  },
  {
   "cell_type": "code",
   "execution_count": 19,
   "metadata": {},
   "outputs": [
    {
     "data": {
      "application/vnd.jupyter.widget-view+json": {
       "model_id": "c0bbf848e5d54d87911059217d69eb00"
      }
     },
     "metadata": {},
     "output_type": "display_data"
    }
   ],
   "source": [
    "map1.basemap = 'topo'\n",
    "map1"
   ]
  },
  {
   "cell_type": "code",
   "execution_count": 20,
   "metadata": {},
   "outputs": [
    {
     "data": {
      "text/plain": [
       "[41.884250000000065, -87.63244999999995]"
      ]
     },
     "execution_count": 20,
     "metadata": {},
     "output_type": "execute_result"
    }
   ],
   "source": [
    "map1.center"
   ]
  },
  {
   "cell_type": "code",
   "execution_count": 21,
   "metadata": {
    "collapsed": true
   },
   "outputs": [],
   "source": [
    "map2 = gis.map('Chicago', zoomlevel=10)"
   ]
  },
  {
   "cell_type": "code",
   "execution_count": 22,
   "metadata": {},
   "outputs": [
    {
     "data": {
      "application/vnd.jupyter.widget-view+json": {
       "model_id": "279fd15abd6247b58620e5688c5bad95"
      }
     },
     "metadata": {},
     "output_type": "display_data"
    }
   ],
   "source": [
    "map2.basemap = 'topo'\n",
    "map2"
   ]
  },
  {
   "cell_type": "code",
   "execution_count": 23,
   "metadata": {
    "collapsed": true
   },
   "outputs": [],
   "source": [
    "df_spray = pd.read_csv('./spray_clean.csv')"
   ]
  },
  {
   "cell_type": "code",
   "execution_count": 24,
   "metadata": {},
   "outputs": [
    {
     "data": {
      "text/html": [
       "<div>\n",
       "<style>\n",
       "    .dataframe thead tr:only-child th {\n",
       "        text-align: right;\n",
       "    }\n",
       "\n",
       "    .dataframe thead th {\n",
       "        text-align: left;\n",
       "    }\n",
       "\n",
       "    .dataframe tbody tr th {\n",
       "        vertical-align: top;\n",
       "    }\n",
       "</style>\n",
       "<table border=\"1\" class=\"dataframe\">\n",
       "  <thead>\n",
       "    <tr style=\"text-align: right;\">\n",
       "      <th></th>\n",
       "      <th>Unnamed: 0</th>\n",
       "      <th>Date</th>\n",
       "      <th>Latitude</th>\n",
       "      <th>Longitude</th>\n",
       "      <th>Year</th>\n",
       "      <th>Month</th>\n",
       "      <th>Day</th>\n",
       "    </tr>\n",
       "  </thead>\n",
       "  <tbody>\n",
       "    <tr>\n",
       "      <th>0</th>\n",
       "      <td>0</td>\n",
       "      <td>2011-08-29</td>\n",
       "      <td>42.391623</td>\n",
       "      <td>-88.089163</td>\n",
       "      <td>2011</td>\n",
       "      <td>8</td>\n",
       "      <td>29</td>\n",
       "    </tr>\n",
       "    <tr>\n",
       "      <th>1</th>\n",
       "      <td>1</td>\n",
       "      <td>2011-08-29</td>\n",
       "      <td>42.391348</td>\n",
       "      <td>-88.089163</td>\n",
       "      <td>2011</td>\n",
       "      <td>8</td>\n",
       "      <td>29</td>\n",
       "    </tr>\n",
       "    <tr>\n",
       "      <th>2</th>\n",
       "      <td>2</td>\n",
       "      <td>2011-08-29</td>\n",
       "      <td>42.391022</td>\n",
       "      <td>-88.089157</td>\n",
       "      <td>2011</td>\n",
       "      <td>8</td>\n",
       "      <td>29</td>\n",
       "    </tr>\n",
       "    <tr>\n",
       "      <th>3</th>\n",
       "      <td>3</td>\n",
       "      <td>2011-08-29</td>\n",
       "      <td>42.390637</td>\n",
       "      <td>-88.089158</td>\n",
       "      <td>2011</td>\n",
       "      <td>8</td>\n",
       "      <td>29</td>\n",
       "    </tr>\n",
       "    <tr>\n",
       "      <th>4</th>\n",
       "      <td>4</td>\n",
       "      <td>2011-08-29</td>\n",
       "      <td>42.390410</td>\n",
       "      <td>-88.088858</td>\n",
       "      <td>2011</td>\n",
       "      <td>8</td>\n",
       "      <td>29</td>\n",
       "    </tr>\n",
       "  </tbody>\n",
       "</table>\n",
       "</div>"
      ],
      "text/plain": [
       "   Unnamed: 0        Date   Latitude  Longitude  Year  Month  Day\n",
       "0           0  2011-08-29  42.391623 -88.089163  2011      8   29\n",
       "1           1  2011-08-29  42.391348 -88.089163  2011      8   29\n",
       "2           2  2011-08-29  42.391022 -88.089157  2011      8   29\n",
       "3           3  2011-08-29  42.390637 -88.089158  2011      8   29\n",
       "4           4  2011-08-29  42.390410 -88.088858  2011      8   29"
      ]
     },
     "execution_count": 24,
     "metadata": {},
     "output_type": "execute_result"
    }
   ],
   "source": [
    "df_spray.head()"
   ]
  },
  {
   "cell_type": "code",
   "execution_count": 30,
   "metadata": {
    "collapsed": true
   },
   "outputs": [],
   "source": [
    "portal_gis = GIS(\"https://acarl.maps.arcgis.com\", \"atcarl\", \"pass84GIS\")\n",
    "spray = portal_gis.content.search(\"spray_clean\", \"Feature Layer\")"
   ]
  },
  {
   "cell_type": "code",
   "execution_count": 31,
   "metadata": {},
   "outputs": [
    {
     "data": {
      "text/html": [
       "<div class=\"item_container\" style=\"height: auto; overflow: hidden; border: 1px solid #cfcfcf; border-radius: 2px; background: #f6fafa; line-height: 1.21429em; padding: 10px;\">\n",
       "                    <div class=\"item_left\" style=\"width: 210px; float: left;\">\n",
       "                       <a href='https://acarl.maps.arcgis.com/home/item.html?id=cedef9ad460748ac90edfcff3daf1237' target='_blank'>\n",
       "                        <img src='data:image/png;base64,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' width='200' height='133' class=\"itemThumbnail\">\n",
       "                       </a>\n",
       "                    </div>\n",
       "\n",
       "                    <div class=\"item_right\"     style=\"float: none; width: auto; overflow: hidden;\">\n",
       "                        <a href='https://acarl.maps.arcgis.com/home/item.html?id=cedef9ad460748ac90edfcff3daf1237' target='_blank'><b>spray_clean</b>\n",
       "                        </a>\n",
       "                        <br/>City pesticide spry for killing mosquitos. <img src='https://acarl.maps.arcgis.com/home/js/jsapi/esri/css/images/item_type_icons/featureshosted16.png' style=\"vertical-align:middle;\">Feature Layer Collection by atcarl\n",
       "                        <br/>Last Modified: March 05, 2018\n",
       "                        <br/>0 comments, 5 views\n",
       "                    </div>\n",
       "                </div>\n",
       "                "
      ],
      "text/plain": [
       "<Item title:\"spray_clean\" type:Feature Layer Collection owner:atcarl>"
      ]
     },
     "execution_count": 31,
     "metadata": {},
     "output_type": "execute_result"
    }
   ],
   "source": [
    "spray[0]"
   ]
  },
  {
   "cell_type": "code",
   "execution_count": 32,
   "metadata": {
    "collapsed": true
   },
   "outputs": [],
   "source": [
    "map1.add_layer(spray[0])"
   ]
  },
  {
   "cell_type": "code",
   "execution_count": 33,
   "metadata": {
    "collapsed": true
   },
   "outputs": [],
   "source": [
    "portal_gis = GIS(\"https://acarl.maps.arcgis.com\", \"atcarl\", \"pass84GIS\")\n",
    "parks = portal_gis.content.search(\"Park_Locations\", \"Feature Layer\")"
   ]
  },
  {
   "cell_type": "code",
   "execution_count": 34,
   "metadata": {},
   "outputs": [
    {
     "data": {
      "text/html": [
       "<div class=\"item_container\" style=\"height: auto; overflow: hidden; border: 1px solid #cfcfcf; border-radius: 2px; background: #f6fafa; line-height: 1.21429em; padding: 10px;\">\n",
       "                    <div class=\"item_left\" style=\"width: 210px; float: left;\">\n",
       "                       <a href='https://acarl.maps.arcgis.com/home/item.html?id=357f9ad79a474e09bbcb50a56bf8704c' target='_blank'>\n",
       "                        <img src='data:image/png;base64,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' width='200' height='133' class=\"itemThumbnail\">\n",
       "                       </a>\n",
       "                    </div>\n",
       "\n",
       "                    <div class=\"item_right\"     style=\"float: none; width: auto; overflow: hidden;\">\n",
       "                        <a href='https://acarl.maps.arcgis.com/home/item.html?id=357f9ad79a474e09bbcb50a56bf8704c' target='_blank'><b>Park_Locations</b>\n",
       "                        </a>\n",
       "                        <br/><img src='https://acarl.maps.arcgis.com/home/js/jsapi/esri/css/images/item_type_icons/featureshosted16.png' style=\"vertical-align:middle;\">Feature Layer Collection by atcarl\n",
       "                        <br/>Last Modified: March 05, 2018\n",
       "                        <br/>0 comments, 0 views\n",
       "                    </div>\n",
       "                </div>\n",
       "                "
      ],
      "text/plain": [
       "<Item title:\"Park_Locations\" type:Feature Layer Collection owner:atcarl>"
      ]
     },
     "execution_count": 34,
     "metadata": {},
     "output_type": "execute_result"
    }
   ],
   "source": [
    "parks[0]"
   ]
  },
  {
   "cell_type": "code",
   "execution_count": 35,
   "metadata": {
    "collapsed": true
   },
   "outputs": [],
   "source": [
    "map1.add_layer(parks[0])"
   ]
  },
  {
   "cell_type": "code",
   "execution_count": 37,
   "metadata": {},
   "outputs": [
    {
     "data": {
      "application/vnd.jupyter.widget-view+json": {
       "model_id": "c0bbf848e5d54d87911059217d69eb00"
      }
     },
     "metadata": {},
     "output_type": "display_data"
    }
   ],
   "source": [
    "map1"
   ]
  },
  {
   "cell_type": "code",
   "execution_count": 38,
   "metadata": {
    "collapsed": true
   },
   "outputs": [],
   "source": [
    "portal_gis = GIS(\"https://acarl.maps.arcgis.com\", \"atcarl\", \"pass84GIS\")\n",
    "water = portal_gis.content.search(\"Hydro\", \"Feature Layer\")"
   ]
  },
  {
   "cell_type": "code",
   "execution_count": 39,
   "metadata": {},
   "outputs": [
    {
     "data": {
      "text/html": [
       "<div class=\"item_container\" style=\"height: auto; overflow: hidden; border: 1px solid #cfcfcf; border-radius: 2px; background: #f6fafa; line-height: 1.21429em; padding: 10px;\">\n",
       "                    <div class=\"item_left\" style=\"width: 210px; float: left;\">\n",
       "                       <a href='https://acarl.maps.arcgis.com/home/item.html?id=c72f81a2b05f4919ba7959dfa863f196' target='_blank'>\n",
       "                        <img src='data:image/png;base64,iVBORw0KGgoAAAANSUhEUgAAAMgAAACFCAIAAACR/CB7AAAACXBIWXMAAA7EAAAOxAGVKw4bAAABbElEQVR4nO3SwQ3AIBDAsNL9dz6WIEJC9gR5ZM3MB6f9twN4k7FIGIuEsUgYi4SxSBiLhLFIGIuEsUgYi4SxSBiLhLFIGIuEsUgYi4SxSBiLhLFIGIuEsUgYi4SxSBiLhLFIGIuEsUgYi4SxSBiLhLFIGIuEsUgYi4SxSBiLhLFIGIuEsUgYi4SxSBiLhLFIGIuEsUgYi4SxSBiLhLFIGIuEsUgYi4SxSBiLhLFIGIuEsUgYi4SxSBiLhLFIGIuEsUgYi4SxSBiLhLFIGIuEsUgYi4SxSBiLhLFIGIuEsUgYi4SxSBiLhLFIGIuEsUgYi4SxSBiLhLFIGIuEsUgYi4SxSBiLhLFIGIuEsUgYi4SxSBiLhLFIGIuEsUgYi4SxSBiLhLFIGIuEsUgYi4SxSBiLhLFIGIuEsUgYi4SxSBiLhLFIGIuEsUgYi4SxSBiLhLFIGIuEsUgYi4SxSBiLhLFIGIuEsUgYi4SxSGy4dQQHgizXSQAAAABJRU5ErkJggg==' width='200' height='133' class=\"itemThumbnail\">\n",
       "                       </a>\n",
       "                    </div>\n",
       "\n",
       "                    <div class=\"item_right\"     style=\"float: none; width: auto; overflow: hidden;\">\n",
       "                        <a href='https://acarl.maps.arcgis.com/home/item.html?id=c72f81a2b05f4919ba7959dfa863f196' target='_blank'><b>Hydro</b>\n",
       "                        </a>\n",
       "                        <br/><img src='https://acarl.maps.arcgis.com/home/js/jsapi/esri/css/images/item_type_icons/featureshosted16.png' style=\"vertical-align:middle;\">Feature Layer Collection by atcarl\n",
       "                        <br/>Last Modified: March 05, 2018\n",
       "                        <br/>0 comments, 3 views\n",
       "                    </div>\n",
       "                </div>\n",
       "                "
      ],
      "text/plain": [
       "<Item title:\"Hydro\" type:Feature Layer Collection owner:atcarl>"
      ]
     },
     "execution_count": 39,
     "metadata": {},
     "output_type": "execute_result"
    }
   ],
   "source": [
    "water[0]"
   ]
  },
  {
   "cell_type": "code",
   "execution_count": 40,
   "metadata": {
    "collapsed": true
   },
   "outputs": [],
   "source": [
    "map2.add_layer(water[0])"
   ]
  },
  {
   "cell_type": "code",
   "execution_count": 42,
   "metadata": {},
   "outputs": [
    {
     "data": {
      "application/vnd.jupyter.widget-view+json": {
       "model_id": "279fd15abd6247b58620e5688c5bad95"
      }
     },
     "metadata": {},
     "output_type": "display_data"
    }
   ],
   "source": [
    "map2"
   ]
  },
  {
   "cell_type": "code",
   "execution_count": 43,
   "metadata": {
    "collapsed": true
   },
   "outputs": [],
   "source": [
    "map2.add_layer(spray[0])"
   ]
  },
  {
   "cell_type": "code",
   "execution_count": 44,
   "metadata": {
    "collapsed": true
   },
   "outputs": [],
   "source": [
    "portal_gis = GIS(\"https://acarl.maps.arcgis.com\", \"atcarl\", \"pass84GIS\")\n",
    "traps = portal_gis.content.search(\"Mos_traps\", \"Feature Layer\")"
   ]
  },
  {
   "cell_type": "code",
   "execution_count": 45,
   "metadata": {},
   "outputs": [
    {
     "data": {
      "text/html": [
       "<div class=\"item_container\" style=\"height: auto; overflow: hidden; border: 1px solid #cfcfcf; border-radius: 2px; background: #f6fafa; line-height: 1.21429em; padding: 10px;\">\n",
       "                    <div class=\"item_left\" style=\"width: 210px; float: left;\">\n",
       "                       <a href='https://acarl.maps.arcgis.com/home/item.html?id=e298b0eb4b0244b185f117393bab221c' target='_blank'>\n",
       "                        <img src='data:image/png;base64,R0lGODlhBQAFAID/AMDAwAAAACH5BAEAAAAALAAAAAAFAAUAQAIEhI+pWAA7' width='200' height='133' class=\"itemThumbnail\">\n",
       "                       </a>\n",
       "                    </div>\n",
       "\n",
       "                    <div class=\"item_right\"     style=\"float: none; width: auto; overflow: hidden;\">\n",
       "                        <a href='https://acarl.maps.arcgis.com/home/item.html?id=e298b0eb4b0244b185f117393bab221c' target='_blank'><b>Mos_traps2</b>\n",
       "                        </a>\n",
       "                        <br/><img src='https://acarl.maps.arcgis.com/home/js/jsapi/esri/css/images/item_type_icons/featureshosted16.png' style=\"vertical-align:middle;\">Feature Layer Collection by atcarl\n",
       "                        <br/>Last Modified: March 06, 2018\n",
       "                        <br/>0 comments, 2 views\n",
       "                    </div>\n",
       "                </div>\n",
       "                "
      ],
      "text/plain": [
       "<Item title:\"Mos_traps2\" type:Feature Layer Collection owner:atcarl>"
      ]
     },
     "execution_count": 45,
     "metadata": {},
     "output_type": "execute_result"
    }
   ],
   "source": [
    "traps[0]"
   ]
  },
  {
   "cell_type": "code",
   "execution_count": 46,
   "metadata": {
    "collapsed": true
   },
   "outputs": [],
   "source": [
    "map3 = gis.map('Chicago', zoomlevel=10)"
   ]
  },
  {
   "cell_type": "code",
   "execution_count": 47,
   "metadata": {
    "collapsed": true
   },
   "outputs": [],
   "source": [
    "map3.add_layer(traps[0])"
   ]
  },
  {
   "cell_type": "code",
   "execution_count": 48,
   "metadata": {
    "collapsed": true
   },
   "outputs": [],
   "source": [
    "map3.add_layer(spray[0])"
   ]
  },
  {
   "cell_type": "code",
   "execution_count": 49,
   "metadata": {},
   "outputs": [
    {
     "data": {
      "application/vnd.jupyter.widget-view+json": {
       "model_id": "d851c5f3351d4a7ba548834951f42c55"
      }
     },
     "metadata": {},
     "output_type": "display_data"
    }
   ],
   "source": [
    "map3.basemap = 'topo'\n",
    "map3"
   ]
  },
  {
   "cell_type": "code",
   "execution_count": 50,
   "metadata": {
    "collapsed": true
   },
   "outputs": [],
   "source": [
    "portal_gis = GIS(\"https://acarl.maps.arcgis.com\", \"atcarl\", \"pass84GIS\")\n",
    "gardens = portal_gis.content.search(\"Gardens\", \"Feature Layer\")"
   ]
  },
  {
   "cell_type": "code",
   "execution_count": 51,
   "metadata": {},
   "outputs": [
    {
     "data": {
      "text/html": [
       "<div class=\"item_container\" style=\"height: auto; overflow: hidden; border: 1px solid #cfcfcf; border-radius: 2px; background: #f6fafa; line-height: 1.21429em; padding: 10px;\">\n",
       "                    <div class=\"item_left\" style=\"width: 210px; float: left;\">\n",
       "                       <a href='https://acarl.maps.arcgis.com/home/item.html?id=6d7ea0364347427b8667796a7093ccae' target='_blank'>\n",
       "                        <img src='data:image/png;base64,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' width='200' height='133' class=\"itemThumbnail\">\n",
       "                       </a>\n",
       "                    </div>\n",
       "\n",
       "                    <div class=\"item_right\"     style=\"float: none; width: auto; overflow: hidden;\">\n",
       "                        <a href='https://acarl.maps.arcgis.com/home/item.html?id=6d7ea0364347427b8667796a7093ccae' target='_blank'><b>Gardens</b>\n",
       "                        </a>\n",
       "                        <br/><img src='https://acarl.maps.arcgis.com/home/js/jsapi/esri/css/images/item_type_icons/featureshosted16.png' style=\"vertical-align:middle;\">Feature Layer Collection by atcarl\n",
       "                        <br/>Last Modified: March 06, 2018\n",
       "                        <br/>0 comments, 4 views\n",
       "                    </div>\n",
       "                </div>\n",
       "                "
      ],
      "text/plain": [
       "<Item title:\"Gardens\" type:Feature Layer Collection owner:atcarl>"
      ]
     },
     "execution_count": 51,
     "metadata": {},
     "output_type": "execute_result"
    }
   ],
   "source": [
    "gardens[0]"
   ]
  },
  {
   "cell_type": "code",
   "execution_count": 52,
   "metadata": {
    "collapsed": true
   },
   "outputs": [],
   "source": [
    "map4 = gis.map('Chicago', zoomlevel=10)"
   ]
  },
  {
   "cell_type": "code",
   "execution_count": 53,
   "metadata": {},
   "outputs": [
    {
     "data": {
      "application/vnd.jupyter.widget-view+json": {
       "model_id": "dfdc4c36e8a842e1a509283769195f90"
      }
     },
     "metadata": {},
     "output_type": "display_data"
    }
   ],
   "source": [
    "map4.basemap = 'topo'\n",
    "map4"
   ]
  },
  {
   "cell_type": "code",
   "execution_count": 54,
   "metadata": {
    "collapsed": true
   },
   "outputs": [],
   "source": [
    "map4.add_layer(gardens[0])"
   ]
  },
  {
   "cell_type": "code",
   "execution_count": 55,
   "metadata": {
    "collapsed": true
   },
   "outputs": [],
   "source": [
    "map4.add_layer(spray[0])"
   ]
  },
  {
   "cell_type": "code",
   "execution_count": 99,
   "metadata": {
    "collapsed": true
   },
   "outputs": [],
   "source": [
    "xtrain_df = pd.read_csv('./X_train_clean_v1.csv')"
   ]
  },
  {
   "cell_type": "code",
   "execution_count": 100,
   "metadata": {},
   "outputs": [
    {
     "data": {
      "text/html": [
       "<div>\n",
       "<style>\n",
       "    .dataframe thead tr:only-child th {\n",
       "        text-align: right;\n",
       "    }\n",
       "\n",
       "    .dataframe thead th {\n",
       "        text-align: left;\n",
       "    }\n",
       "\n",
       "    .dataframe tbody tr th {\n",
       "        vertical-align: top;\n",
       "    }\n",
       "</style>\n",
       "<table border=\"1\" class=\"dataframe\">\n",
       "  <thead>\n",
       "    <tr style=\"text-align: right;\">\n",
       "      <th></th>\n",
       "      <th>Unnamed: 0</th>\n",
       "      <th>Block</th>\n",
       "      <th>Trap</th>\n",
       "      <th>Latitude</th>\n",
       "      <th>Longitude</th>\n",
       "      <th>Id</th>\n",
       "      <th>Year_x</th>\n",
       "      <th>Month_x</th>\n",
       "      <th>Day_x</th>\n",
       "      <th>DayofYear</th>\n",
       "      <th>...</th>\n",
       "      <th>GR</th>\n",
       "      <th>HZ</th>\n",
       "      <th>MIFG</th>\n",
       "      <th>RA</th>\n",
       "      <th>SN</th>\n",
       "      <th>SQ</th>\n",
       "      <th>TS</th>\n",
       "      <th>TSRA</th>\n",
       "      <th>VCFG</th>\n",
       "      <th>VCTS</th>\n",
       "    </tr>\n",
       "  </thead>\n",
       "  <tbody>\n",
       "    <tr>\n",
       "      <th>0</th>\n",
       "      <td>0</td>\n",
       "      <td>41</td>\n",
       "      <td>T002</td>\n",
       "      <td>41.954690</td>\n",
       "      <td>-87.800991</td>\n",
       "      <td>1</td>\n",
       "      <td>2007</td>\n",
       "      <td>5</td>\n",
       "      <td>29</td>\n",
       "      <td>149</td>\n",
       "      <td>...</td>\n",
       "      <td>0.0</td>\n",
       "      <td>1.0</td>\n",
       "      <td>0.0</td>\n",
       "      <td>0.0</td>\n",
       "      <td>0.0</td>\n",
       "      <td>0.0</td>\n",
       "      <td>0.0</td>\n",
       "      <td>0.0</td>\n",
       "      <td>0.0</td>\n",
       "      <td>0.0</td>\n",
       "    </tr>\n",
       "    <tr>\n",
       "      <th>1</th>\n",
       "      <td>1</td>\n",
       "      <td>41</td>\n",
       "      <td>T002</td>\n",
       "      <td>41.954690</td>\n",
       "      <td>-87.800991</td>\n",
       "      <td>2</td>\n",
       "      <td>2007</td>\n",
       "      <td>5</td>\n",
       "      <td>29</td>\n",
       "      <td>149</td>\n",
       "      <td>...</td>\n",
       "      <td>0.0</td>\n",
       "      <td>1.0</td>\n",
       "      <td>0.0</td>\n",
       "      <td>0.0</td>\n",
       "      <td>0.0</td>\n",
       "      <td>0.0</td>\n",
       "      <td>0.0</td>\n",
       "      <td>0.0</td>\n",
       "      <td>0.0</td>\n",
       "      <td>0.0</td>\n",
       "    </tr>\n",
       "    <tr>\n",
       "      <th>2</th>\n",
       "      <td>2</td>\n",
       "      <td>62</td>\n",
       "      <td>T007</td>\n",
       "      <td>41.994991</td>\n",
       "      <td>-87.769279</td>\n",
       "      <td>3</td>\n",
       "      <td>2007</td>\n",
       "      <td>5</td>\n",
       "      <td>29</td>\n",
       "      <td>149</td>\n",
       "      <td>...</td>\n",
       "      <td>0.0</td>\n",
       "      <td>1.0</td>\n",
       "      <td>0.0</td>\n",
       "      <td>0.0</td>\n",
       "      <td>0.0</td>\n",
       "      <td>0.0</td>\n",
       "      <td>0.0</td>\n",
       "      <td>0.0</td>\n",
       "      <td>0.0</td>\n",
       "      <td>0.0</td>\n",
       "    </tr>\n",
       "    <tr>\n",
       "      <th>3</th>\n",
       "      <td>3</td>\n",
       "      <td>79</td>\n",
       "      <td>T015</td>\n",
       "      <td>41.974089</td>\n",
       "      <td>-87.824812</td>\n",
       "      <td>4</td>\n",
       "      <td>2007</td>\n",
       "      <td>5</td>\n",
       "      <td>29</td>\n",
       "      <td>149</td>\n",
       "      <td>...</td>\n",
       "      <td>0.0</td>\n",
       "      <td>1.0</td>\n",
       "      <td>0.0</td>\n",
       "      <td>0.0</td>\n",
       "      <td>0.0</td>\n",
       "      <td>0.0</td>\n",
       "      <td>0.0</td>\n",
       "      <td>0.0</td>\n",
       "      <td>0.0</td>\n",
       "      <td>0.0</td>\n",
       "    </tr>\n",
       "    <tr>\n",
       "      <th>4</th>\n",
       "      <td>4</td>\n",
       "      <td>79</td>\n",
       "      <td>T015</td>\n",
       "      <td>41.974089</td>\n",
       "      <td>-87.824812</td>\n",
       "      <td>5</td>\n",
       "      <td>2007</td>\n",
       "      <td>5</td>\n",
       "      <td>29</td>\n",
       "      <td>149</td>\n",
       "      <td>...</td>\n",
       "      <td>0.0</td>\n",
       "      <td>1.0</td>\n",
       "      <td>0.0</td>\n",
       "      <td>0.0</td>\n",
       "      <td>0.0</td>\n",
       "      <td>0.0</td>\n",
       "      <td>0.0</td>\n",
       "      <td>0.0</td>\n",
       "      <td>0.0</td>\n",
       "      <td>0.0</td>\n",
       "    </tr>\n",
       "  </tbody>\n",
       "</table>\n",
       "<p>5 rows × 101 columns</p>\n",
       "</div>"
      ],
      "text/plain": [
       "   Unnamed: 0  Block  Trap   Latitude  Longitude  Id  Year_x  Month_x  Day_x  \\\n",
       "0           0     41  T002  41.954690 -87.800991   1    2007        5     29   \n",
       "1           1     41  T002  41.954690 -87.800991   2    2007        5     29   \n",
       "2           2     62  T007  41.994991 -87.769279   3    2007        5     29   \n",
       "3           3     79  T015  41.974089 -87.824812   4    2007        5     29   \n",
       "4           4     79  T015  41.974089 -87.824812   5    2007        5     29   \n",
       "\n",
       "   DayofYear  ...    GR   HZ  MIFG   RA   SN   SQ   TS  TSRA  VCFG  VCTS  \n",
       "0        149  ...   0.0  1.0   0.0  0.0  0.0  0.0  0.0   0.0   0.0   0.0  \n",
       "1        149  ...   0.0  1.0   0.0  0.0  0.0  0.0  0.0   0.0   0.0   0.0  \n",
       "2        149  ...   0.0  1.0   0.0  0.0  0.0  0.0  0.0   0.0   0.0   0.0  \n",
       "3        149  ...   0.0  1.0   0.0  0.0  0.0  0.0  0.0   0.0   0.0   0.0  \n",
       "4        149  ...   0.0  1.0   0.0  0.0  0.0  0.0  0.0   0.0   0.0   0.0  \n",
       "\n",
       "[5 rows x 101 columns]"
      ]
     },
     "execution_count": 100,
     "metadata": {},
     "output_type": "execute_result"
    }
   ],
   "source": [
    "xtrain_df.head()"
   ]
  },
  {
   "cell_type": "code",
   "execution_count": 101,
   "metadata": {},
   "outputs": [
    {
     "data": {
      "text/plain": [
       "['Unnamed: 0',\n",
       " 'Block',\n",
       " 'Trap',\n",
       " 'Latitude',\n",
       " 'Longitude',\n",
       " 'Id',\n",
       " 'Year_x',\n",
       " 'Month_x',\n",
       " 'Day_x',\n",
       " 'DayofYear',\n",
       " 'culex',\n",
       " 'erraticus',\n",
       " 'pipiens',\n",
       " 'restuans',\n",
       " 'salinarius',\n",
       " 'tarsalis',\n",
       " 'territans',\n",
       " '60018',\n",
       " '60106',\n",
       " '60605',\n",
       " '60607',\n",
       " '60608',\n",
       " '60609',\n",
       " '60611',\n",
       " '60612',\n",
       " '60613',\n",
       " '60614',\n",
       " '60615',\n",
       " '60617',\n",
       " '60618',\n",
       " '60619',\n",
       " '60620',\n",
       " '60621',\n",
       " '60622',\n",
       " '60623',\n",
       " '60625',\n",
       " '60626',\n",
       " '60628',\n",
       " '60629',\n",
       " '60630',\n",
       " '60631',\n",
       " '60632',\n",
       " '60633',\n",
       " '60634',\n",
       " '60636',\n",
       " '60637',\n",
       " '60638',\n",
       " '60639',\n",
       " '60640',\n",
       " '60641',\n",
       " '60642',\n",
       " '60643',\n",
       " '60645',\n",
       " '60646',\n",
       " '60647',\n",
       " '60649',\n",
       " '60651',\n",
       " '60652',\n",
       " '60654',\n",
       " '60655',\n",
       " '60656',\n",
       " '60659',\n",
       " '60660',\n",
       " '60666',\n",
       " '60707',\n",
       " '60803',\n",
       " '60827',\n",
       " 'Station',\n",
       " 'Tmax',\n",
       " 'Tmin',\n",
       " 'Tavg',\n",
       " 'Depart',\n",
       " 'DewPoint',\n",
       " 'WetBulb',\n",
       " 'Heat',\n",
       " 'Cool',\n",
       " 'Sunrise',\n",
       " 'Sunset',\n",
       " 'SnowFall',\n",
       " 'PrecipTotal',\n",
       " 'StnPressure',\n",
       " 'SeaLevel',\n",
       " 'ResultSpeed',\n",
       " 'ResultDir',\n",
       " 'AvgSpeed',\n",
       " 'BCFG',\n",
       " 'BR',\n",
       " 'DZ',\n",
       " 'FG',\n",
       " 'FG+',\n",
       " 'FU',\n",
       " 'GR',\n",
       " 'HZ',\n",
       " 'MIFG',\n",
       " 'RA',\n",
       " 'SN',\n",
       " 'SQ',\n",
       " 'TS',\n",
       " 'TSRA',\n",
       " 'VCFG',\n",
       " 'VCTS']"
      ]
     },
     "execution_count": 101,
     "metadata": {},
     "output_type": "execute_result"
    }
   ],
   "source": [
    "list(xtrain_df.columns)"
   ]
  },
  {
   "cell_type": "code",
   "execution_count": 102,
   "metadata": {},
   "outputs": [
    {
     "data": {
      "text/plain": [
       "(10506, 101)"
      ]
     },
     "execution_count": 102,
     "metadata": {},
     "output_type": "execute_result"
    }
   ],
   "source": [
    "xtrain_df.shape"
   ]
  },
  {
   "cell_type": "code",
   "execution_count": 103,
   "metadata": {
    "collapsed": true
   },
   "outputs": [],
   "source": [
    "ytrain_df = pd.read_csv('./y_train_clean')"
   ]
  },
  {
   "cell_type": "code",
   "execution_count": 104,
   "metadata": {},
   "outputs": [
    {
     "data": {
      "text/html": [
       "<div>\n",
       "<style>\n",
       "    .dataframe thead tr:only-child th {\n",
       "        text-align: right;\n",
       "    }\n",
       "\n",
       "    .dataframe thead th {\n",
       "        text-align: left;\n",
       "    }\n",
       "\n",
       "    .dataframe tbody tr th {\n",
       "        vertical-align: top;\n",
       "    }\n",
       "</style>\n",
       "<table border=\"1\" class=\"dataframe\">\n",
       "  <thead>\n",
       "    <tr style=\"text-align: right;\">\n",
       "      <th></th>\n",
       "      <th>0</th>\n",
       "      <th>0.1</th>\n",
       "    </tr>\n",
       "  </thead>\n",
       "  <tbody>\n",
       "    <tr>\n",
       "      <th>0</th>\n",
       "      <td>1</td>\n",
       "      <td>0</td>\n",
       "    </tr>\n",
       "    <tr>\n",
       "      <th>1</th>\n",
       "      <td>2</td>\n",
       "      <td>0</td>\n",
       "    </tr>\n",
       "    <tr>\n",
       "      <th>2</th>\n",
       "      <td>3</td>\n",
       "      <td>0</td>\n",
       "    </tr>\n",
       "    <tr>\n",
       "      <th>3</th>\n",
       "      <td>4</td>\n",
       "      <td>0</td>\n",
       "    </tr>\n",
       "    <tr>\n",
       "      <th>4</th>\n",
       "      <td>5</td>\n",
       "      <td>0</td>\n",
       "    </tr>\n",
       "  </tbody>\n",
       "</table>\n",
       "</div>"
      ],
      "text/plain": [
       "   0  0.1\n",
       "0  1    0\n",
       "1  2    0\n",
       "2  3    0\n",
       "3  4    0\n",
       "4  5    0"
      ]
     },
     "execution_count": 104,
     "metadata": {},
     "output_type": "execute_result"
    }
   ],
   "source": [
    "ytrain_df.head()"
   ]
  },
  {
   "cell_type": "code",
   "execution_count": 105,
   "metadata": {
    "collapsed": true
   },
   "outputs": [],
   "source": [
    "xtest_df = pd.read_csv('./X_test_clean_v1.csv')"
   ]
  },
  {
   "cell_type": "code",
   "execution_count": 106,
   "metadata": {},
   "outputs": [
    {
     "data": {
      "text/html": [
       "<div>\n",
       "<style>\n",
       "    .dataframe thead tr:only-child th {\n",
       "        text-align: right;\n",
       "    }\n",
       "\n",
       "    .dataframe thead th {\n",
       "        text-align: left;\n",
       "    }\n",
       "\n",
       "    .dataframe tbody tr th {\n",
       "        vertical-align: top;\n",
       "    }\n",
       "</style>\n",
       "<table border=\"1\" class=\"dataframe\">\n",
       "  <thead>\n",
       "    <tr style=\"text-align: right;\">\n",
       "      <th></th>\n",
       "      <th>Unnamed: 0</th>\n",
       "      <th>Id</th>\n",
       "      <th>Block</th>\n",
       "      <th>Trap</th>\n",
       "      <th>Latitude</th>\n",
       "      <th>Longitude</th>\n",
       "      <th>Year_x</th>\n",
       "      <th>Month_x</th>\n",
       "      <th>Day_x</th>\n",
       "      <th>DayofYear</th>\n",
       "      <th>...</th>\n",
       "      <th>GR</th>\n",
       "      <th>HZ</th>\n",
       "      <th>MIFG</th>\n",
       "      <th>RA</th>\n",
       "      <th>SN</th>\n",
       "      <th>SQ</th>\n",
       "      <th>TS</th>\n",
       "      <th>TSRA</th>\n",
       "      <th>VCFG</th>\n",
       "      <th>VCTS</th>\n",
       "    </tr>\n",
       "  </thead>\n",
       "  <tbody>\n",
       "    <tr>\n",
       "      <th>0</th>\n",
       "      <td>0</td>\n",
       "      <td>1</td>\n",
       "      <td>41</td>\n",
       "      <td>T002</td>\n",
       "      <td>41.95469</td>\n",
       "      <td>-87.800991</td>\n",
       "      <td>2008</td>\n",
       "      <td>6</td>\n",
       "      <td>11</td>\n",
       "      <td>163</td>\n",
       "      <td>...</td>\n",
       "      <td>0.0</td>\n",
       "      <td>0.0</td>\n",
       "      <td>0.0</td>\n",
       "      <td>0.0</td>\n",
       "      <td>0.0</td>\n",
       "      <td>0.0</td>\n",
       "      <td>0.0</td>\n",
       "      <td>0.0</td>\n",
       "      <td>0.0</td>\n",
       "      <td>0.0</td>\n",
       "    </tr>\n",
       "    <tr>\n",
       "      <th>1</th>\n",
       "      <td>1</td>\n",
       "      <td>2</td>\n",
       "      <td>41</td>\n",
       "      <td>T002</td>\n",
       "      <td>41.95469</td>\n",
       "      <td>-87.800991</td>\n",
       "      <td>2008</td>\n",
       "      <td>6</td>\n",
       "      <td>11</td>\n",
       "      <td>163</td>\n",
       "      <td>...</td>\n",
       "      <td>0.0</td>\n",
       "      <td>0.0</td>\n",
       "      <td>0.0</td>\n",
       "      <td>0.0</td>\n",
       "      <td>0.0</td>\n",
       "      <td>0.0</td>\n",
       "      <td>0.0</td>\n",
       "      <td>0.0</td>\n",
       "      <td>0.0</td>\n",
       "      <td>0.0</td>\n",
       "    </tr>\n",
       "    <tr>\n",
       "      <th>2</th>\n",
       "      <td>2</td>\n",
       "      <td>3</td>\n",
       "      <td>41</td>\n",
       "      <td>T002</td>\n",
       "      <td>41.95469</td>\n",
       "      <td>-87.800991</td>\n",
       "      <td>2008</td>\n",
       "      <td>6</td>\n",
       "      <td>11</td>\n",
       "      <td>163</td>\n",
       "      <td>...</td>\n",
       "      <td>0.0</td>\n",
       "      <td>0.0</td>\n",
       "      <td>0.0</td>\n",
       "      <td>0.0</td>\n",
       "      <td>0.0</td>\n",
       "      <td>0.0</td>\n",
       "      <td>0.0</td>\n",
       "      <td>0.0</td>\n",
       "      <td>0.0</td>\n",
       "      <td>0.0</td>\n",
       "    </tr>\n",
       "    <tr>\n",
       "      <th>3</th>\n",
       "      <td>3</td>\n",
       "      <td>4</td>\n",
       "      <td>41</td>\n",
       "      <td>T002</td>\n",
       "      <td>41.95469</td>\n",
       "      <td>-87.800991</td>\n",
       "      <td>2008</td>\n",
       "      <td>6</td>\n",
       "      <td>11</td>\n",
       "      <td>163</td>\n",
       "      <td>...</td>\n",
       "      <td>0.0</td>\n",
       "      <td>0.0</td>\n",
       "      <td>0.0</td>\n",
       "      <td>0.0</td>\n",
       "      <td>0.0</td>\n",
       "      <td>0.0</td>\n",
       "      <td>0.0</td>\n",
       "      <td>0.0</td>\n",
       "      <td>0.0</td>\n",
       "      <td>0.0</td>\n",
       "    </tr>\n",
       "    <tr>\n",
       "      <th>4</th>\n",
       "      <td>4</td>\n",
       "      <td>5</td>\n",
       "      <td>41</td>\n",
       "      <td>T002</td>\n",
       "      <td>41.95469</td>\n",
       "      <td>-87.800991</td>\n",
       "      <td>2008</td>\n",
       "      <td>6</td>\n",
       "      <td>11</td>\n",
       "      <td>163</td>\n",
       "      <td>...</td>\n",
       "      <td>0.0</td>\n",
       "      <td>0.0</td>\n",
       "      <td>0.0</td>\n",
       "      <td>0.0</td>\n",
       "      <td>0.0</td>\n",
       "      <td>0.0</td>\n",
       "      <td>0.0</td>\n",
       "      <td>0.0</td>\n",
       "      <td>0.0</td>\n",
       "      <td>0.0</td>\n",
       "    </tr>\n",
       "  </tbody>\n",
       "</table>\n",
       "<p>5 rows × 101 columns</p>\n",
       "</div>"
      ],
      "text/plain": [
       "   Unnamed: 0  Id  Block  Trap  Latitude  Longitude  Year_x  Month_x  Day_x  \\\n",
       "0           0   1     41  T002  41.95469 -87.800991    2008        6     11   \n",
       "1           1   2     41  T002  41.95469 -87.800991    2008        6     11   \n",
       "2           2   3     41  T002  41.95469 -87.800991    2008        6     11   \n",
       "3           3   4     41  T002  41.95469 -87.800991    2008        6     11   \n",
       "4           4   5     41  T002  41.95469 -87.800991    2008        6     11   \n",
       "\n",
       "   DayofYear  ...    GR   HZ  MIFG   RA   SN   SQ   TS  TSRA  VCFG  VCTS  \n",
       "0        163  ...   0.0  0.0   0.0  0.0  0.0  0.0  0.0   0.0   0.0   0.0  \n",
       "1        163  ...   0.0  0.0   0.0  0.0  0.0  0.0  0.0   0.0   0.0   0.0  \n",
       "2        163  ...   0.0  0.0   0.0  0.0  0.0  0.0  0.0   0.0   0.0   0.0  \n",
       "3        163  ...   0.0  0.0   0.0  0.0  0.0  0.0  0.0   0.0   0.0   0.0  \n",
       "4        163  ...   0.0  0.0   0.0  0.0  0.0  0.0  0.0   0.0   0.0   0.0  \n",
       "\n",
       "[5 rows x 101 columns]"
      ]
     },
     "execution_count": 106,
     "metadata": {},
     "output_type": "execute_result"
    }
   ],
   "source": [
    "xtest_df.head()"
   ]
  },
  {
   "cell_type": "code",
   "execution_count": 107,
   "metadata": {},
   "outputs": [
    {
     "data": {
      "text/plain": [
       "['Unnamed: 0',\n",
       " 'Id',\n",
       " 'Block',\n",
       " 'Trap',\n",
       " 'Latitude',\n",
       " 'Longitude',\n",
       " 'Year_x',\n",
       " 'Month_x',\n",
       " 'Day_x',\n",
       " 'DayofYear',\n",
       " 'culex',\n",
       " 'erraticus',\n",
       " 'pipiens',\n",
       " 'restuans',\n",
       " 'salinarius',\n",
       " 'tarsalis',\n",
       " 'territans',\n",
       " '60018',\n",
       " '60106',\n",
       " '60605',\n",
       " '60607',\n",
       " '60608',\n",
       " '60609',\n",
       " '60611',\n",
       " '60612',\n",
       " '60613',\n",
       " '60614',\n",
       " '60615',\n",
       " '60617',\n",
       " '60618',\n",
       " '60619',\n",
       " '60620',\n",
       " '60621',\n",
       " '60622',\n",
       " '60623',\n",
       " '60625',\n",
       " '60626',\n",
       " '60628',\n",
       " '60629',\n",
       " '60630',\n",
       " '60631',\n",
       " '60632',\n",
       " '60633',\n",
       " '60634',\n",
       " '60636',\n",
       " '60637',\n",
       " '60638',\n",
       " '60639',\n",
       " '60640',\n",
       " '60641',\n",
       " '60642',\n",
       " '60643',\n",
       " '60645',\n",
       " '60646',\n",
       " '60647',\n",
       " '60649',\n",
       " '60651',\n",
       " '60652',\n",
       " '60654',\n",
       " '60655',\n",
       " '60656',\n",
       " '60659',\n",
       " '60660',\n",
       " '60666',\n",
       " '60707',\n",
       " '60803',\n",
       " '60827',\n",
       " 'Station',\n",
       " 'Tmax',\n",
       " 'Tmin',\n",
       " 'Tavg',\n",
       " 'Depart',\n",
       " 'DewPoint',\n",
       " 'WetBulb',\n",
       " 'Heat',\n",
       " 'Cool',\n",
       " 'Sunrise',\n",
       " 'Sunset',\n",
       " 'SnowFall',\n",
       " 'PrecipTotal',\n",
       " 'StnPressure',\n",
       " 'SeaLevel',\n",
       " 'ResultSpeed',\n",
       " 'ResultDir',\n",
       " 'AvgSpeed',\n",
       " 'BCFG',\n",
       " 'BR',\n",
       " 'DZ',\n",
       " 'FG',\n",
       " 'FG+',\n",
       " 'FU',\n",
       " 'GR',\n",
       " 'HZ',\n",
       " 'MIFG',\n",
       " 'RA',\n",
       " 'SN',\n",
       " 'SQ',\n",
       " 'TS',\n",
       " 'TSRA',\n",
       " 'VCFG',\n",
       " 'VCTS']"
      ]
     },
     "execution_count": 107,
     "metadata": {},
     "output_type": "execute_result"
    }
   ],
   "source": [
    "list(xtest_df.columns)"
   ]
  },
  {
   "cell_type": "code",
   "execution_count": 108,
   "metadata": {},
   "outputs": [
    {
     "data": {
      "text/plain": [
       "(116293, 101)"
      ]
     },
     "execution_count": 108,
     "metadata": {},
     "output_type": "execute_result"
    }
   ],
   "source": [
    "xtest_df.shape"
   ]
  },
  {
   "cell_type": "code",
   "execution_count": 128,
   "metadata": {},
   "outputs": [],
   "source": [
    "df_2007 = xtrain_df[xtrain_df['Year_x']==2007]\n",
    "df_2008 = xtest_df[xtest_df['Year_x']==2008]\n",
    "df_2009 = xtrain_df[xtrain_df['Year_x']==2009]\n",
    "df_2010 = xtest_df[xtest_df['Year_x']==2010]\n",
    "df_2011 = xtrain_df[xtrain_df['Year_x']==2011]\n",
    "df_2012 = xtest_df[xtest_df['Year_x']==2012]\n",
    "df_2013 = xtrain_df[xtrain_df['Year_x']==2013]\n",
    "df_2014 = xtest_df[xtest_df['Year_x']==2014]"
   ]
  },
  {
   "cell_type": "code",
   "execution_count": 134,
   "metadata": {},
   "outputs": [
    {
     "data": {
      "text/plain": [
       "((3811, 101),\n",
       " (30498, 101),\n",
       " (2249, 101),\n",
       " (36557, 101),\n",
       " (2054, 101),\n",
       " (27115, 101),\n",
       " (2392, 101),\n",
       " (22123, 101))"
      ]
     },
     "execution_count": 134,
     "metadata": {},
     "output_type": "execute_result"
    }
   ],
   "source": [
    "df_2007.shape, df_2008.shape, df_2009.shape, df_2010.shape, df_2011.shape, df_2012.shape, df_2013.shape,df_2014.shape"
   ]
  },
  {
   "cell_type": "code",
   "execution_count": 136,
   "metadata": {},
   "outputs": [
    {
     "data": {
      "text/html": [
       "<div>\n",
       "<style>\n",
       "    .dataframe thead tr:only-child th {\n",
       "        text-align: right;\n",
       "    }\n",
       "\n",
       "    .dataframe thead th {\n",
       "        text-align: left;\n",
       "    }\n",
       "\n",
       "    .dataframe tbody tr th {\n",
       "        vertical-align: top;\n",
       "    }\n",
       "</style>\n",
       "<table border=\"1\" class=\"dataframe\">\n",
       "  <thead>\n",
       "    <tr style=\"text-align: right;\">\n",
       "      <th></th>\n",
       "      <th>Unnamed: 0</th>\n",
       "      <th>Block</th>\n",
       "      <th>Trap</th>\n",
       "      <th>Latitude</th>\n",
       "      <th>Longitude</th>\n",
       "      <th>Id</th>\n",
       "      <th>Year_x</th>\n",
       "      <th>Month_x</th>\n",
       "      <th>Day_x</th>\n",
       "      <th>DayofYear</th>\n",
       "      <th>...</th>\n",
       "      <th>GR</th>\n",
       "      <th>HZ</th>\n",
       "      <th>MIFG</th>\n",
       "      <th>RA</th>\n",
       "      <th>SN</th>\n",
       "      <th>SQ</th>\n",
       "      <th>TS</th>\n",
       "      <th>TSRA</th>\n",
       "      <th>VCFG</th>\n",
       "      <th>VCTS</th>\n",
       "    </tr>\n",
       "  </thead>\n",
       "  <tbody>\n",
       "    <tr>\n",
       "      <th>0</th>\n",
       "      <td>0</td>\n",
       "      <td>41</td>\n",
       "      <td>T002</td>\n",
       "      <td>41.954690</td>\n",
       "      <td>-87.800991</td>\n",
       "      <td>1</td>\n",
       "      <td>2007</td>\n",
       "      <td>5</td>\n",
       "      <td>29</td>\n",
       "      <td>149</td>\n",
       "      <td>...</td>\n",
       "      <td>0.0</td>\n",
       "      <td>1.0</td>\n",
       "      <td>0.0</td>\n",
       "      <td>0.0</td>\n",
       "      <td>0.0</td>\n",
       "      <td>0.0</td>\n",
       "      <td>0.0</td>\n",
       "      <td>0.0</td>\n",
       "      <td>0.0</td>\n",
       "      <td>0.0</td>\n",
       "    </tr>\n",
       "    <tr>\n",
       "      <th>1</th>\n",
       "      <td>1</td>\n",
       "      <td>41</td>\n",
       "      <td>T002</td>\n",
       "      <td>41.954690</td>\n",
       "      <td>-87.800991</td>\n",
       "      <td>2</td>\n",
       "      <td>2007</td>\n",
       "      <td>5</td>\n",
       "      <td>29</td>\n",
       "      <td>149</td>\n",
       "      <td>...</td>\n",
       "      <td>0.0</td>\n",
       "      <td>1.0</td>\n",
       "      <td>0.0</td>\n",
       "      <td>0.0</td>\n",
       "      <td>0.0</td>\n",
       "      <td>0.0</td>\n",
       "      <td>0.0</td>\n",
       "      <td>0.0</td>\n",
       "      <td>0.0</td>\n",
       "      <td>0.0</td>\n",
       "    </tr>\n",
       "    <tr>\n",
       "      <th>2</th>\n",
       "      <td>2</td>\n",
       "      <td>62</td>\n",
       "      <td>T007</td>\n",
       "      <td>41.994991</td>\n",
       "      <td>-87.769279</td>\n",
       "      <td>3</td>\n",
       "      <td>2007</td>\n",
       "      <td>5</td>\n",
       "      <td>29</td>\n",
       "      <td>149</td>\n",
       "      <td>...</td>\n",
       "      <td>0.0</td>\n",
       "      <td>1.0</td>\n",
       "      <td>0.0</td>\n",
       "      <td>0.0</td>\n",
       "      <td>0.0</td>\n",
       "      <td>0.0</td>\n",
       "      <td>0.0</td>\n",
       "      <td>0.0</td>\n",
       "      <td>0.0</td>\n",
       "      <td>0.0</td>\n",
       "    </tr>\n",
       "    <tr>\n",
       "      <th>3</th>\n",
       "      <td>3</td>\n",
       "      <td>79</td>\n",
       "      <td>T015</td>\n",
       "      <td>41.974089</td>\n",
       "      <td>-87.824812</td>\n",
       "      <td>4</td>\n",
       "      <td>2007</td>\n",
       "      <td>5</td>\n",
       "      <td>29</td>\n",
       "      <td>149</td>\n",
       "      <td>...</td>\n",
       "      <td>0.0</td>\n",
       "      <td>1.0</td>\n",
       "      <td>0.0</td>\n",
       "      <td>0.0</td>\n",
       "      <td>0.0</td>\n",
       "      <td>0.0</td>\n",
       "      <td>0.0</td>\n",
       "      <td>0.0</td>\n",
       "      <td>0.0</td>\n",
       "      <td>0.0</td>\n",
       "    </tr>\n",
       "    <tr>\n",
       "      <th>4</th>\n",
       "      <td>4</td>\n",
       "      <td>79</td>\n",
       "      <td>T015</td>\n",
       "      <td>41.974089</td>\n",
       "      <td>-87.824812</td>\n",
       "      <td>5</td>\n",
       "      <td>2007</td>\n",
       "      <td>5</td>\n",
       "      <td>29</td>\n",
       "      <td>149</td>\n",
       "      <td>...</td>\n",
       "      <td>0.0</td>\n",
       "      <td>1.0</td>\n",
       "      <td>0.0</td>\n",
       "      <td>0.0</td>\n",
       "      <td>0.0</td>\n",
       "      <td>0.0</td>\n",
       "      <td>0.0</td>\n",
       "      <td>0.0</td>\n",
       "      <td>0.0</td>\n",
       "      <td>0.0</td>\n",
       "    </tr>\n",
       "  </tbody>\n",
       "</table>\n",
       "<p>5 rows × 101 columns</p>\n",
       "</div>"
      ],
      "text/plain": [
       "   Unnamed: 0  Block  Trap   Latitude  Longitude  Id  Year_x  Month_x  Day_x  \\\n",
       "0           0     41  T002  41.954690 -87.800991   1    2007        5     29   \n",
       "1           1     41  T002  41.954690 -87.800991   2    2007        5     29   \n",
       "2           2     62  T007  41.994991 -87.769279   3    2007        5     29   \n",
       "3           3     79  T015  41.974089 -87.824812   4    2007        5     29   \n",
       "4           4     79  T015  41.974089 -87.824812   5    2007        5     29   \n",
       "\n",
       "   DayofYear  ...    GR   HZ  MIFG   RA   SN   SQ   TS  TSRA  VCFG  VCTS  \n",
       "0        149  ...   0.0  1.0   0.0  0.0  0.0  0.0  0.0   0.0   0.0   0.0  \n",
       "1        149  ...   0.0  1.0   0.0  0.0  0.0  0.0  0.0   0.0   0.0   0.0  \n",
       "2        149  ...   0.0  1.0   0.0  0.0  0.0  0.0  0.0   0.0   0.0   0.0  \n",
       "3        149  ...   0.0  1.0   0.0  0.0  0.0  0.0  0.0   0.0   0.0   0.0  \n",
       "4        149  ...   0.0  1.0   0.0  0.0  0.0  0.0  0.0   0.0   0.0   0.0  \n",
       "\n",
       "[5 rows x 101 columns]"
      ]
     },
     "execution_count": 136,
     "metadata": {},
     "output_type": "execute_result"
    }
   ],
   "source": [
    "df_2007.head()"
   ]
  },
  {
   "cell_type": "code",
   "execution_count": 171,
   "metadata": {
    "scrolled": true
   },
   "outputs": [
    {
     "data": {
      "text/plain": [
       "['Unnamed: 0',\n",
       " 'Block',\n",
       " 'Trap',\n",
       " 'Latitude',\n",
       " 'Longitude',\n",
       " 'Id',\n",
       " 'Year_x',\n",
       " 'Month_x',\n",
       " 'Day_x',\n",
       " 'DayofYear',\n",
       " 'culex',\n",
       " 'erraticus',\n",
       " 'pipiens',\n",
       " 'restuans',\n",
       " 'salinarius',\n",
       " 'tarsalis',\n",
       " 'territans',\n",
       " '60018',\n",
       " '60106',\n",
       " '60605',\n",
       " '60607',\n",
       " '60608',\n",
       " '60609',\n",
       " '60611',\n",
       " '60612',\n",
       " '60613',\n",
       " '60614',\n",
       " '60615',\n",
       " '60617',\n",
       " '60618',\n",
       " '60619',\n",
       " '60620',\n",
       " '60621',\n",
       " '60622',\n",
       " '60623',\n",
       " '60625',\n",
       " '60626',\n",
       " '60628',\n",
       " '60629',\n",
       " '60630',\n",
       " '60631',\n",
       " '60632',\n",
       " '60633',\n",
       " '60634',\n",
       " '60636',\n",
       " '60637',\n",
       " '60638',\n",
       " '60639',\n",
       " '60640',\n",
       " '60641',\n",
       " '60642',\n",
       " '60643',\n",
       " '60645',\n",
       " '60646',\n",
       " '60647',\n",
       " '60649',\n",
       " '60651',\n",
       " '60652',\n",
       " '60654',\n",
       " '60655',\n",
       " '60656',\n",
       " '60659',\n",
       " '60660',\n",
       " '60666',\n",
       " '60707',\n",
       " '60803',\n",
       " '60827',\n",
       " 'Station',\n",
       " 'Tmax',\n",
       " 'Tmin',\n",
       " 'Tavg',\n",
       " 'Depart',\n",
       " 'DewPoint',\n",
       " 'WetBulb',\n",
       " 'Heat',\n",
       " 'Cool',\n",
       " 'Sunrise',\n",
       " 'Sunset',\n",
       " 'SnowFall',\n",
       " 'PrecipTotal',\n",
       " 'StnPressure',\n",
       " 'SeaLevel',\n",
       " 'ResultSpeed',\n",
       " 'ResultDir',\n",
       " 'AvgSpeed',\n",
       " 'BCFG',\n",
       " 'BR',\n",
       " 'DZ',\n",
       " 'FG',\n",
       " 'FG+',\n",
       " 'FU',\n",
       " 'GR',\n",
       " 'HZ',\n",
       " 'MIFG',\n",
       " 'RA',\n",
       " 'SN',\n",
       " 'SQ',\n",
       " 'TS',\n",
       " 'TSRA',\n",
       " 'VCFG',\n",
       " 'VCTS']"
      ]
     },
     "execution_count": 171,
     "metadata": {},
     "output_type": "execute_result"
    }
   ],
   "source": [
    "list(df_2007.columns)"
   ]
  },
  {
   "cell_type": "code",
   "execution_count": 409,
   "metadata": {},
   "outputs": [],
   "source": [
    "tot7 = len(df_2007)"
   ]
  },
  {
   "cell_type": "code",
   "execution_count": 410,
   "metadata": {},
   "outputs": [],
   "source": [
    "cul7 = (sum(df_2007['culex']) / tot7 * 100)\n",
    "err7 = (sum(df_2007['erraticus']) / tot7 * 100)\n",
    "pip7 = (sum(df_2007['pipiens']) / tot7 * 100)\n",
    "res7 = (sum(df_2007['restuans']) / tot7 * 100)\n",
    "sal7 = (sum(df_2007['salinarius']) / tot7 * 100)\n",
    "tar7 = (sum(df_2007['tarsalis']) / tot7 * 100)\n",
    "ter7 = (sum(df_2007['territans']) / tot7 * 100)"
   ]
  },
  {
   "cell_type": "code",
   "execution_count": 413,
   "metadata": {},
   "outputs": [],
   "source": [
    "x7 = [cul7, err7, pip7, res7, sal7, tar7, ter7]"
   ]
  },
  {
   "cell_type": "code",
   "execution_count": 414,
   "metadata": {},
   "outputs": [],
   "source": [
    "lst7 = pd.DataFrame(x7, index=['Culex', 'Erraticus', 'Pipiens', 'restuans', \n",
    "                              'Salinarius', 'Tarsalis', 'Territans'], columns=['col'])"
   ]
  },
  {
   "cell_type": "code",
   "execution_count": 415,
   "metadata": {},
   "outputs": [
    {
     "data": {
      "text/html": [
       "<div>\n",
       "<style>\n",
       "    .dataframe thead tr:only-child th {\n",
       "        text-align: right;\n",
       "    }\n",
       "\n",
       "    .dataframe thead th {\n",
       "        text-align: left;\n",
       "    }\n",
       "\n",
       "    .dataframe tbody tr th {\n",
       "        vertical-align: top;\n",
       "    }\n",
       "</style>\n",
       "<table border=\"1\" class=\"dataframe\">\n",
       "  <thead>\n",
       "    <tr style=\"text-align: right;\">\n",
       "      <th></th>\n",
       "      <th>col</th>\n",
       "    </tr>\n",
       "  </thead>\n",
       "  <tbody>\n",
       "    <tr>\n",
       "      <th>Culex</th>\n",
       "      <td>100.000000</td>\n",
       "    </tr>\n",
       "    <tr>\n",
       "      <th>Erraticus</th>\n",
       "      <td>0.000000</td>\n",
       "    </tr>\n",
       "    <tr>\n",
       "      <th>Pipiens</th>\n",
       "      <td>82.812910</td>\n",
       "    </tr>\n",
       "    <tr>\n",
       "      <th>restuans</th>\n",
       "      <td>54.001574</td>\n",
       "    </tr>\n",
       "    <tr>\n",
       "      <th>Salinarius</th>\n",
       "      <td>1.075833</td>\n",
       "    </tr>\n",
       "    <tr>\n",
       "      <th>Tarsalis</th>\n",
       "      <td>0.000000</td>\n",
       "    </tr>\n",
       "    <tr>\n",
       "      <th>Territans</th>\n",
       "      <td>2.860142</td>\n",
       "    </tr>\n",
       "  </tbody>\n",
       "</table>\n",
       "</div>"
      ],
      "text/plain": [
       "                   col\n",
       "Culex       100.000000\n",
       "Erraticus     0.000000\n",
       "Pipiens      82.812910\n",
       "restuans     54.001574\n",
       "Salinarius    1.075833\n",
       "Tarsalis      0.000000\n",
       "Territans     2.860142"
      ]
     },
     "execution_count": 415,
     "metadata": {},
     "output_type": "execute_result"
    }
   ],
   "source": [
    "lst7"
   ]
  },
  {
   "cell_type": "code",
   "execution_count": 416,
   "metadata": {},
   "outputs": [
    {
     "data": {
      "text/plain": [
       "<matplotlib.figure.Figure at 0x17c39bcf8>"
      ]
     },
     "metadata": {},
     "output_type": "display_data"
    },
    {
     "data": {
      "image/png": "[encoded data removed]",
      "text/plain": [
       "<matplotlib.figure.Figure at 0x17bc71940>"
      ]
     },
     "metadata": {},
     "output_type": "display_data"
    }
   ],
   "source": [
    "plt.figure(figsize=(8,5))\n",
    "lst7.plot(kind = 'bar') \n",
    "plt.xticks\n",
    "plt.ylabel=('% of Species')\n",
    "plt.xlabel=('Species') \n",
    "plt.title('% of Species found in All Traps 2007');"
   ]
  },
  {
   "cell_type": "code",
   "execution_count": 335,
   "metadata": {},
   "outputs": [],
   "source": [
    "tot8 = len(df_2008)"
   ]
  },
  {
   "cell_type": "code",
   "execution_count": 336,
   "metadata": {},
   "outputs": [],
   "source": [
    "cul8 = (sum(df_2008['culex']) / tot8 * 100)\n",
    "err8 = (sum(df_2008['erraticus']) / tot8 * 100)\n",
    "pip8 = (sum(df_2008['pipiens']) / tot8 * 100)\n",
    "res8 = (sum(df_2008['restuans']) / tot8 * 100)\n",
    "sal8 = (sum(df_2008['salinarius']) / tot8 * 100)\n",
    "tar8 = (sum(df_2008['tarsalis']) / tot8 * 100)\n",
    "ter8 = (sum(df_2008['territans']) / tot8 * 100)"
   ]
  },
  {
   "cell_type": "code",
   "execution_count": 348,
   "metadata": {},
   "outputs": [],
   "source": [
    "x8 = [cul8, err8, pip8, res8, sal8, tar8, ter8]"
   ]
  },
  {
   "cell_type": "code",
   "execution_count": 349,
   "metadata": {},
   "outputs": [],
   "source": [
    "lst8 = pd.DataFrame(x8, index=['Culex', 'Erraticus', 'Pipiens', 'restuans', \n",
    "                              'Salinarius', 'Tarsalis', 'Territans'], columns=['col'])"
   ]
  },
  {
   "cell_type": "code",
   "execution_count": 417,
   "metadata": {},
   "outputs": [
    {
     "data": {
      "text/plain": [
       "<matplotlib.figure.Figure at 0x17c516d68>"
      ]
     },
     "metadata": {},
     "output_type": "display_data"
    },
    {
     "data": {
      "image/png": "[encoded data removed]",
      "text/plain": [
       "<matplotlib.figure.Figure at 0x17c4e1320>"
      ]
     },
     "metadata": {},
     "output_type": "display_data"
    }
   ],
   "source": [
    "plt.figure(figsize=(8,5))\n",
    "lst8.plot(kind = 'bar') \n",
    "plt.xticks\n",
    "plt.ylabel=('% of Species')\n",
    "plt.xlabel=('Species') \n",
    "plt.title('% of Species found in All Traps 2008');"
   ]
  },
  {
   "cell_type": "code",
   "execution_count": 377,
   "metadata": {
    "collapsed": true
   },
   "outputs": [],
   "source": [
    "tot9 = len(df_2009)"
   ]
  },
  {
   "cell_type": "code",
   "execution_count": 378,
   "metadata": {
    "collapsed": true
   },
   "outputs": [],
   "source": [
    "cul9 = (sum(df_2009['culex']) / tot9 * 100)\n",
    "err9 = (sum(df_2009['erraticus']) / tot9 * 100)\n",
    "pip9 = (sum(df_2009['pipiens']) / tot9 * 100)\n",
    "res9 = (sum(df_2009['restuans']) / tot9 * 100)\n",
    "sal9 = (sum(df_2009['salinarius']) / tot9 * 100)\n",
    "tar9 = (sum(df_2009['tarsalis']) / tot9 * 100)\n",
    "ter9 = (sum(df_2009['territans']) / tot9 * 100)"
   ]
  },
  {
   "cell_type": "code",
   "execution_count": 379,
   "metadata": {
    "collapsed": true
   },
   "outputs": [],
   "source": [
    "x9 = [cul9, err9, pip9, res9, sal9, tar9, ter9]"
   ]
  },
  {
   "cell_type": "code",
   "execution_count": 380,
   "metadata": {
    "collapsed": true
   },
   "outputs": [],
   "source": [
    "lst9 = pd.DataFrame(x9, index=['Culex', 'Erraticus', 'Pipiens', 'restuans', \n",
    "                              'Salinarius', 'Tarsalis', 'Territans'], columns=['col'])"
   ]
  },
  {
   "cell_type": "code",
   "execution_count": 418,
   "metadata": {},
   "outputs": [
    {
     "data": {
      "text/plain": [
       "<matplotlib.figure.Figure at 0x17c7c13c8>"
      ]
     },
     "metadata": {},
     "output_type": "display_data"
    },
    {
     "data": {
      "image/png": "[encoded data removed]",
      "text/plain": [
       "<matplotlib.figure.Figure at 0x17c36d668>"
      ]
     },
     "metadata": {},
     "output_type": "display_data"
    }
   ],
   "source": [
    "plt.figure(figsize=(8,5))\n",
    "lst9.plot(kind = 'bar') \n",
    "plt.xticks\n",
    "plt.ylabel=('% of Species')\n",
    "plt.xlabel=('Species') \n",
    "plt.title('% of Species found in All Traps 2009');"
   ]
  },
  {
   "cell_type": "code",
   "execution_count": 371,
   "metadata": {},
   "outputs": [],
   "source": [
    "tot10 = len(df_2010)"
   ]
  },
  {
   "cell_type": "code",
   "execution_count": 384,
   "metadata": {},
   "outputs": [],
   "source": [
    "cul10 = (sum(df_2010['culex']) / tot10 * 100)\n",
    "err10 = (sum(df_2010['erraticus']) / tot10 * 100)\n",
    "pip10 = (sum(df_2010['pipiens']) / tot10 * 100)\n",
    "res10 = (sum(df_2010['restuans']) / tot10 * 100)\n",
    "sal10 = (sum(df_2010['salinarius']) / tot10 * 100)\n",
    "tar10 = (sum(df_2010['tarsalis']) / tot10 * 100)\n",
    "ter10 = (sum(df_2010['territans']) / tot10 * 100)"
   ]
  },
  {
   "cell_type": "code",
   "execution_count": 385,
   "metadata": {
    "collapsed": true
   },
   "outputs": [],
   "source": [
    "x10 = [cul10, err10, pip10, res10, sal10, tar10, ter10]"
   ]
  },
  {
   "cell_type": "code",
   "execution_count": 386,
   "metadata": {
    "collapsed": true
   },
   "outputs": [],
   "source": [
    "lst10 = pd.DataFrame(x10, index=['Culex', 'Erraticus', 'Pipiens', 'restuans', \n",
    "                              'Salinarius', 'Tarsalis', 'Territans'], columns=['col'])"
   ]
  },
  {
   "cell_type": "code",
   "execution_count": 419,
   "metadata": {},
   "outputs": [
    {
     "data": {
      "text/plain": [
       "<matplotlib.figure.Figure at 0x17c7caf60>"
      ]
     },
     "metadata": {},
     "output_type": "display_data"
    },
    {
     "data": {
      "image/png": "[encoded data removed]",
      "text/plain": [
       "<matplotlib.figure.Figure at 0x17c7b0cc0>"
      ]
     },
     "metadata": {},
     "output_type": "display_data"
    }
   ],
   "source": [
    "plt.figure(figsize=(8,5))\n",
    "lst10.plot(kind = 'bar') \n",
    "plt.xticks\n",
    "plt.ylabel=('% of Species')\n",
    "plt.xlabel=('Species') \n",
    "plt.title('% of Species found in All Traps 2010');"
   ]
  },
  {
   "cell_type": "code",
   "execution_count": 388,
   "metadata": {},
   "outputs": [],
   "source": [
    "tot11 = len(df_2011)"
   ]
  },
  {
   "cell_type": "code",
   "execution_count": 389,
   "metadata": {
    "collapsed": true
   },
   "outputs": [],
   "source": [
    "cul11 = (sum(df_2011['culex']) / tot11 * 100)\n",
    "err11 = (sum(df_2011['erraticus']) / tot11 * 100)\n",
    "pip11 = (sum(df_2011['pipiens']) / tot11 * 100)\n",
    "res11 = (sum(df_2011['restuans']) / tot11 * 100)\n",
    "sal11 = (sum(df_2011['salinarius']) / tot11 * 100)\n",
    "tar11 = (sum(df_2011['tarsalis']) / tot11 * 100)\n",
    "ter11 = (sum(df_2011['territans']) / tot11 * 100)"
   ]
  },
  {
   "cell_type": "code",
   "execution_count": 390,
   "metadata": {
    "collapsed": true
   },
   "outputs": [],
   "source": [
    "x11 = [cul11, err11, pip11, res11, sal11, tar11, ter11]"
   ]
  },
  {
   "cell_type": "code",
   "execution_count": 392,
   "metadata": {
    "collapsed": true
   },
   "outputs": [],
   "source": [
    "lst11 = pd.DataFrame(x11, index=['Culex', 'Erraticus', 'Pipiens', 'restuans', \n",
    "                              'Salinarius', 'Tarsalis', 'Territans'], columns=['col'])"
   ]
  },
  {
   "cell_type": "code",
   "execution_count": 420,
   "metadata": {},
   "outputs": [
    {
     "data": {
      "text/plain": [
       "<matplotlib.figure.Figure at 0x17ca8e0b8>"
      ]
     },
     "metadata": {},
     "output_type": "display_data"
    },
    {
     "data": {
      "image/png": "[encoded data removed]",
      "text/plain": [
       "<matplotlib.figure.Figure at 0x17c3a1400>"
      ]
     },
     "metadata": {},
     "output_type": "display_data"
    }
   ],
   "source": [
    "plt.figure(figsize=(8,5))\n",
    "lst11.plot(kind = 'bar') \n",
    "plt.xticks\n",
    "plt.ylabel=('% of Species')\n",
    "plt.xlabel=('Species') \n",
    "plt.title('% of Species found in All Traps 2011');"
   ]
  },
  {
   "cell_type": "code",
   "execution_count": 394,
   "metadata": {
    "collapsed": true
   },
   "outputs": [],
   "source": [
    "tot12 = len(df_2012)"
   ]
  },
  {
   "cell_type": "code",
   "execution_count": 395,
   "metadata": {
    "collapsed": true
   },
   "outputs": [],
   "source": [
    "cul12 = (sum(df_2012['culex']) / tot12 * 100)\n",
    "err12 = (sum(df_2012['erraticus']) / tot12 * 100)\n",
    "pip12 = (sum(df_2012['pipiens']) / tot12 * 100)\n",
    "res12 = (sum(df_2012['restuans']) / tot12 * 100)\n",
    "sal12 = (sum(df_2012['salinarius']) / tot12 * 100)\n",
    "tar12 = (sum(df_2012['tarsalis']) / tot12 * 100)\n",
    "ter12 = (sum(df_2012['territans']) / tot12 * 100)"
   ]
  },
  {
   "cell_type": "code",
   "execution_count": 396,
   "metadata": {
    "collapsed": true
   },
   "outputs": [],
   "source": [
    "x12 = [cul12, err12, pip12, res12, sal12, tar12, ter12]"
   ]
  },
  {
   "cell_type": "code",
   "execution_count": 397,
   "metadata": {
    "collapsed": true
   },
   "outputs": [],
   "source": [
    "lst12 = pd.DataFrame(x12, index=['Culex', 'Erraticus', 'Pipiens', 'restuans', \n",
    "                              'Salinarius', 'Tarsalis', 'Territans'], columns=['col'])"
   ]
  },
  {
   "cell_type": "code",
   "execution_count": 421,
   "metadata": {},
   "outputs": [
    {
     "data": {
      "text/plain": [
       "<matplotlib.figure.Figure at 0x17cac3c88>"
      ]
     },
     "metadata": {},
     "output_type": "display_data"
    },
    {
     "data": {
      "image/png": "[encoded data removed]",
      "text/plain": [
       "<matplotlib.figure.Figure at 0x17caad4a8>"
      ]
     },
     "metadata": {},
     "output_type": "display_data"
    }
   ],
   "source": [
    "plt.figure(figsize=(8,5))\n",
    "lst12.plot(kind = 'bar') \n",
    "plt.xticks\n",
    "plt.ylabel=('% of Species')\n",
    "plt.xlabel=('Species') \n",
    "plt.title('% of Species found in All Traps 2012');"
   ]
  },
  {
   "cell_type": "code",
   "execution_count": 399,
   "metadata": {
    "collapsed": true
   },
   "outputs": [],
   "source": [
    "tot13 = len(df_2013)"
   ]
  },
  {
   "cell_type": "code",
   "execution_count": 400,
   "metadata": {
    "collapsed": true
   },
   "outputs": [],
   "source": [
    "cul13 = (sum(df_2013['culex']) / tot13 * 100)\n",
    "err13 = (sum(df_2013['erraticus']) / tot13 * 100)\n",
    "pip13 = (sum(df_2013['pipiens']) / tot13 * 100)\n",
    "res13 = (sum(df_2013['restuans']) / tot13 * 100)\n",
    "sal13 = (sum(df_2013['salinarius']) / tot13 * 100)\n",
    "tar13 = (sum(df_2013['tarsalis']) / tot13 * 100)\n",
    "ter13 = (sum(df_2013['territans']) / tot13 * 100)"
   ]
  },
  {
   "cell_type": "code",
   "execution_count": 402,
   "metadata": {
    "collapsed": true
   },
   "outputs": [],
   "source": [
    "x13 = [cul13, err13, pip13, res13, sal13, tar13, ter13]\n",
    "lst13 = pd.DataFrame(x13, index=['Culex', 'Erraticus', 'Pipiens', 'restuans', \n",
    "                              'Salinarius', 'Tarsalis', 'Territans'], columns=['col'])"
   ]
  },
  {
   "cell_type": "code",
   "execution_count": 422,
   "metadata": {},
   "outputs": [
    {
     "data": {
      "text/plain": [
       "<matplotlib.figure.Figure at 0x17cd56f98>"
      ]
     },
     "metadata": {},
     "output_type": "display_data"
    },
    {
     "data": {
      "image/png": "[encoded data removed]",
      "text/plain": [
       "<matplotlib.figure.Figure at 0x17cc0f908>"
      ]
     },
     "metadata": {},
     "output_type": "display_data"
    }
   ],
   "source": [
    "plt.figure(figsize=(8,5))\n",
    "lst13.plot(kind = 'bar') \n",
    "plt.xticks\n",
    "plt.ylabel=('% of Species')\n",
    "plt.xlabel=('Species') \n",
    "plt.title('% of Species found in All Traps 2013');"
   ]
  },
  {
   "cell_type": "code",
   "execution_count": 404,
   "metadata": {
    "collapsed": true
   },
   "outputs": [],
   "source": [
    "tot14 = len(df_2014)"
   ]
  },
  {
   "cell_type": "code",
   "execution_count": 405,
   "metadata": {
    "collapsed": true
   },
   "outputs": [],
   "source": [
    "cul14 = (sum(df_2014['culex']) / tot14 * 100)\n",
    "err14 = (sum(df_2014['erraticus']) / tot14 * 100)\n",
    "pip14 = (sum(df_2014['pipiens']) / tot14 * 100)\n",
    "res14 = (sum(df_2014['restuans']) / tot14 * 100)\n",
    "sal14 = (sum(df_2014['salinarius']) / tot14 * 100)\n",
    "tar14 = (sum(df_2014['tarsalis']) / tot14 * 100)\n",
    "ter14 = (sum(df_2014['territans']) / tot14 * 100)"
   ]
  },
  {
   "cell_type": "code",
   "execution_count": 406,
   "metadata": {
    "collapsed": true
   },
   "outputs": [],
   "source": [
    "x14 = [cul14, err14, pip14, res14, sal14, tar14, ter14]\n",
    "lst14 = pd.DataFrame(x14, index=['Culex', 'Erraticus', 'Pipiens', 'restuans', \n",
    "                              'Salinarius', 'Tarsalis', 'Territans'], columns=['col'])"
   ]
  },
  {
   "cell_type": "code",
   "execution_count": 428,
   "metadata": {},
   "outputs": [
    {
     "data": {
      "text/plain": [
       "<matplotlib.figure.Figure at 0x17cd6f208>"
      ]
     },
     "metadata": {},
     "output_type": "display_data"
    },
    {
     "data": {
      "image/png": "[encoded data removed]",
      "text/plain": [
       "<matplotlib.figure.Figure at 0x17cd7bef0>"
      ]
     },
     "metadata": {},
     "output_type": "display_data"
    }
   ],
   "source": [
    "plt.figure(figsize=(8,5))\n",
    "lst14.plot(kind = 'bar') \n",
    "plt.xticks\n",
    "plt.ylabel=('% of Species')\n",
    "plt.xlabel=('Species') \n",
    "plt.title('% of Species found in All Traps 2014');"
   ]
  },
  {
   "cell_type": "code",
   "execution_count": null,
   "metadata": {
    "collapsed": true
   },
   "outputs": [],
   "source": []
  }
 ],
 "metadata": {
  "kernelspec": {
   "display_name": "Python 3",
   "language": "python",
   "name": "python3"
  },
  "language_info": {
   "codemirror_mode": {
    "name": "ipython",
    "version": 3
   },
   "file_extension": ".py",
   "mimetype": "text/x-python",
   "name": "python",
   "nbconvert_exporter": "python",
   "pygments_lexer": "ipython3",
   "version": "3.6.3"
  }
 },
 "nbformat": 4,
 "nbformat_minor": 2
}
